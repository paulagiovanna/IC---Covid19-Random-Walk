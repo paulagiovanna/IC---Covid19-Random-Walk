{
 "cells": [
  {
   "cell_type": "code",
   "execution_count": 1,
   "metadata": {},
   "outputs": [],
   "source": [
    "import pandas as pd\n",
    "import seaborn as sns\n",
    "import matplotlib.pyplot as plt\n",
    "import numpy as np\n",
    "import pycountry_convert as pc"
   ]
  },
  {
   "cell_type": "markdown",
   "metadata": {},
   "source": [
    "# Loading Data"
   ]
  },
  {
   "cell_type": "markdown",
   "metadata": {},
   "source": [
    "## Gross Domestic Product"
   ]
  },
  {
   "cell_type": "code",
   "execution_count": 2,
   "metadata": {},
   "outputs": [],
   "source": [
    "#countries income group\n",
    "df_gdp_group = pd.read_csv('data/gdp_group.csv', delimiter =';')\n",
    "df_gdp_group = df_gdp_group[['TableName', 'IncomeGroup']]\n",
    "df_gdp_group.columns = ['pais', 'IncomeGroup']\n",
    "\n",
    "#gdp percapita\n",
    "df_gdp_pc = pd.read_csv('data/gdp_percapita.csv', delimiter =';', dtype={'2018': np.float32})\n",
    "df_gdp_pc.columns = ['pais', 'gdp_pc']\n",
    "\n",
    "#gdp\n",
    "df_gdp = pd.read_csv('data/gdp_values.csv', delimiter =';', dtype={'2018': np.float32})\n",
    "df_gdp.columns = ['pais', 'gdp']"
   ]
  },
  {
   "cell_type": "markdown",
   "metadata": {},
   "source": [
    "## Flights Percent Loss"
   ]
  },
  {
   "cell_type": "code",
   "execution_count": 3,
   "metadata": {},
   "outputs": [],
   "source": [
    "df_pct_loss = pd.read_csv('data/flights_pct_loss_week5-22.csv')"
   ]
  },
  {
   "cell_type": "code",
   "execution_count": 4,
   "metadata": {},
   "outputs": [],
   "source": [
    "df_pct_loss = df_pct_loss[(df_pct_loss.valor_semana >=15) & (df_pct_loss.valor_semana <= 22)]"
   ]
  },
  {
   "cell_type": "code",
   "execution_count": 5,
   "metadata": {},
   "outputs": [],
   "source": [
    "df_pct_loss = df_pct_loss[['pais', 'pct_loss']].groupby('pais').mean().reset_index()"
   ]
  },
  {
   "cell_type": "code",
   "execution_count": 6,
   "metadata": {},
   "outputs": [
    {
     "data": {
      "text/html": [
       "<div>\n",
       "<style scoped>\n",
       "    .dataframe tbody tr th:only-of-type {\n",
       "        vertical-align: middle;\n",
       "    }\n",
       "\n",
       "    .dataframe tbody tr th {\n",
       "        vertical-align: top;\n",
       "    }\n",
       "\n",
       "    .dataframe thead th {\n",
       "        text-align: right;\n",
       "    }\n",
       "</style>\n",
       "<table border=\"1\" class=\"dataframe\">\n",
       "  <thead>\n",
       "    <tr style=\"text-align: right;\">\n",
       "      <th></th>\n",
       "      <th>pais</th>\n",
       "      <th>pct_loss</th>\n",
       "    </tr>\n",
       "  </thead>\n",
       "  <tbody>\n",
       "    <tr>\n",
       "      <th>11</th>\n",
       "      <td>Brazil</td>\n",
       "      <td>0.848348</td>\n",
       "    </tr>\n",
       "  </tbody>\n",
       "</table>\n",
       "</div>"
      ],
      "text/plain": [
       "      pais  pct_loss\n",
       "11  Brazil  0.848348"
      ]
     },
     "execution_count": 6,
     "metadata": {},
     "output_type": "execute_result"
    }
   ],
   "source": [
    "df_pct_loss[df_pct_loss.pais =='Brazil']"
   ]
  },
  {
   "cell_type": "code",
   "execution_count": 7,
   "metadata": {},
   "outputs": [
    {
     "data": {
      "text/plain": [
       "71"
      ]
     },
     "execution_count": 7,
     "metadata": {},
     "output_type": "execute_result"
    }
   ],
   "source": [
    "len(df_pct_loss.pais.unique())"
   ]
  },
  {
   "cell_type": "markdown",
   "metadata": {},
   "source": [
    "## Economic Impact"
   ]
  },
  {
   "cell_type": "code",
   "execution_count": 8,
   "metadata": {},
   "outputs": [],
   "source": [
    "df_eco_impct = pd.read_csv('data/all_variables_response_economic_countries.csv')\n",
    "df_eco_impct = df_eco_impct[['Country', 'Output-CLI percent impact']]\n",
    "df_eco_impct.columns = ['pais', 'Output-CLI percent impact']"
   ]
  },
  {
   "cell_type": "markdown",
   "metadata": {},
   "source": [
    "## Population"
   ]
  },
  {
   "cell_type": "code",
   "execution_count": 9,
   "metadata": {},
   "outputs": [],
   "source": [
    "df_pop = pd.read_csv('data/socio_stats_countries.csv')\n",
    "\n",
    "df_pop = df_pop[df_pop.variable == 'Population']\n",
    "df_pop = df_pop[['Name', 'value']]\n",
    "df_pop.columns = ['pais', 'pop']"
   ]
  },
  {
   "cell_type": "markdown",
   "metadata": {},
   "source": [
    "## Export Goods and Services"
   ]
  },
  {
   "cell_type": "code",
   "execution_count": 10,
   "metadata": {},
   "outputs": [],
   "source": [
    "df_goods_serv = pd.read_csv('data/export_goods_serv.csv', delimiter =';', dtype={'2018': np.float32}, encoding='cp1252')\n",
    "df_goods_serv.columns = ['pais', 'value_goods_serv']"
   ]
  },
  {
   "cell_type": "markdown",
   "metadata": {},
   "source": [
    "## Covid Deaths"
   ]
  },
  {
   "cell_type": "code",
   "execution_count": 11,
   "metadata": {},
   "outputs": [],
   "source": [
    "df_covid = pd.read_csv('data/total_cases_countries_normalized.csv')\n",
    "df_covid = df_covid[df_covid.Date == '2020-03-31']\n",
    "df_covid = df_covid[['Name', 'TotalDeaths']]\n",
    "df_covid.columns = ['pais', 'TotalDeaths31/03']"
   ]
  },
  {
   "cell_type": "markdown",
   "metadata": {},
   "source": [
    "# 1st  Occurrence of Covid"
   ]
  },
  {
   "cell_type": "code",
   "execution_count": 12,
   "metadata": {},
   "outputs": [],
   "source": [
    "covid = pd.read_csv('data/total_cases_countries_normalized.csv')"
   ]
  },
  {
   "cell_type": "code",
   "execution_count": 13,
   "metadata": {},
   "outputs": [],
   "source": [
    "first_date = []\n",
    "\n",
    "for pais in covid.Name.unique():\n",
    "    auxdf = covid[covid.Name == pais]\n",
    "    auxdf = auxdf[auxdf.TotalDeaths != 0]\n",
    "    if not(auxdf.empty):\n",
    "        fd = auxdf.iloc[0].Day\n",
    "    first_date.append([pais, fd])\n",
    "df_first_date = pd.DataFrame(first_date, columns = ['pais', '1stDay' ])"
   ]
  },
  {
   "cell_type": "markdown",
   "metadata": {},
   "source": [
    "## Eigenvector Centrality"
   ]
  },
  {
   "cell_type": "code",
   "execution_count": 14,
   "metadata": {},
   "outputs": [],
   "source": [
    "df_eigenvec = pd.read_csv('data/eigenvector_centrality.csv')\n",
    "df_eigenvec.columns = ['pais', 'centrality']"
   ]
  },
  {
   "cell_type": "markdown",
   "metadata": {},
   "source": [
    "## Target Probabilty"
   ]
  },
  {
   "cell_type": "code",
   "execution_count": 15,
   "metadata": {},
   "outputs": [],
   "source": [
    "df_target_prob = pd.read_csv('data/probability_matrix.csv')\n",
    "df_target_prob = df_target_prob[['target', 'prob']].groupby('target').mean().reset_index()"
   ]
  },
  {
   "cell_type": "code",
   "execution_count": 16,
   "metadata": {},
   "outputs": [],
   "source": [
    "df_target_prob.columns = ['pais', 'prob_target']"
   ]
  },
  {
   "cell_type": "markdown",
   "metadata": {},
   "source": [
    "## Merging DataFrames"
   ]
  },
  {
   "cell_type": "code",
   "execution_count": 17,
   "metadata": {},
   "outputs": [],
   "source": [
    "df = df_pct_loss.merge(df_gdp_group, 'left', on = 'pais')\n",
    "df = df.merge(df_gdp, 'left', on = 'pais')\n",
    "df = df.merge(df_gdp_pc, 'left', on = 'pais')\n",
    "df = df.merge(df_eco_impct, 'left', on = 'pais')\n",
    "df = df.merge(df_pop, 'left', on = 'pais')\n",
    "df = df.merge(df_goods_serv, 'left', on = 'pais')\n",
    "df = df.merge(df_covid, 'left', on = 'pais')\n",
    "df = df.merge(df_first_date, 'left', on = 'pais')\n",
    "df = df.merge(df_eigenvec, 'left', on = 'pais')\n",
    "df = df.merge(df_target_prob, 'left', on = 'pais')"
   ]
  },
  {
   "cell_type": "markdown",
   "metadata": {},
   "source": [
    "## Getting Continent Column"
   ]
  },
  {
   "cell_type": "code",
   "execution_count": 18,
   "metadata": {},
   "outputs": [],
   "source": [
    "def country_to_continent(country_name):\n",
    "    country_alpha2 = pc.country_name_to_country_alpha2(country_name)\n",
    "    country_continent_code = pc.country_alpha2_to_continent_code(country_alpha2)\n",
    "    country_continent_name = pc.convert_continent_code_to_continent_name(country_continent_code)\n",
    "    return country_continent_name\n",
    "\n",
    "df['continent'] = df['pais'].apply(lambda x: country_to_continent(x))"
   ]
  },
  {
   "cell_type": "code",
   "execution_count": 19,
   "metadata": {},
   "outputs": [
    {
     "data": {
      "text/html": [
       "<div>\n",
       "<style scoped>\n",
       "    .dataframe tbody tr th:only-of-type {\n",
       "        vertical-align: middle;\n",
       "    }\n",
       "\n",
       "    .dataframe tbody tr th {\n",
       "        vertical-align: top;\n",
       "    }\n",
       "\n",
       "    .dataframe thead th {\n",
       "        text-align: right;\n",
       "    }\n",
       "</style>\n",
       "<table border=\"1\" class=\"dataframe\">\n",
       "  <thead>\n",
       "    <tr style=\"text-align: right;\">\n",
       "      <th></th>\n",
       "      <th>pais</th>\n",
       "      <th>pct_loss</th>\n",
       "      <th>IncomeGroup</th>\n",
       "      <th>gdp</th>\n",
       "      <th>gdp_pc</th>\n",
       "      <th>Output-CLI percent impact</th>\n",
       "      <th>pop</th>\n",
       "      <th>value_goods_serv</th>\n",
       "      <th>TotalDeaths31/03</th>\n",
       "      <th>1stDay</th>\n",
       "      <th>centrality</th>\n",
       "      <th>prob_target</th>\n",
       "      <th>continent</th>\n",
       "    </tr>\n",
       "  </thead>\n",
       "  <tbody>\n",
       "    <tr>\n",
       "      <th>0</th>\n",
       "      <td>Algeria</td>\n",
       "      <td>0.907910</td>\n",
       "      <td>Upper middle income</td>\n",
       "      <td>1.740000e+11</td>\n",
       "      <td>4.114715e+09</td>\n",
       "      <td>NaN</td>\n",
       "      <td>42228429.0</td>\n",
       "      <td>NaN</td>\n",
       "      <td>35.0</td>\n",
       "      <td>73.0</td>\n",
       "      <td>0.084755</td>\n",
       "      <td>0.004530</td>\n",
       "      <td>Africa</td>\n",
       "    </tr>\n",
       "    <tr>\n",
       "      <th>1</th>\n",
       "      <td>Argentina</td>\n",
       "      <td>0.907540</td>\n",
       "      <td>Upper middle income</td>\n",
       "      <td>5.200000e+11</td>\n",
       "      <td>1.168395e+09</td>\n",
       "      <td>NaN</td>\n",
       "      <td>44494502.0</td>\n",
       "      <td>7.680732e+10</td>\n",
       "      <td>24.0</td>\n",
       "      <td>68.0</td>\n",
       "      <td>0.085773</td>\n",
       "      <td>0.021742</td>\n",
       "      <td>South America</td>\n",
       "    </tr>\n",
       "    <tr>\n",
       "      <th>2</th>\n",
       "      <td>Armenia</td>\n",
       "      <td>0.903259</td>\n",
       "      <td>Upper middle income</td>\n",
       "      <td>1.243309e+10</td>\n",
       "      <td>4.212071e+09</td>\n",
       "      <td>NaN</td>\n",
       "      <td>2951776.0</td>\n",
       "      <td>4.700349e+09</td>\n",
       "      <td>3.0</td>\n",
       "      <td>87.0</td>\n",
       "      <td>0.035566</td>\n",
       "      <td>0.000456</td>\n",
       "      <td>Asia</td>\n",
       "    </tr>\n",
       "    <tr>\n",
       "      <th>3</th>\n",
       "      <td>Australia</td>\n",
       "      <td>0.595010</td>\n",
       "      <td>High income</td>\n",
       "      <td>1.430000e+12</td>\n",
       "      <td>5.737369e+09</td>\n",
       "      <td>3.599705</td>\n",
       "      <td>24982688.0</td>\n",
       "      <td>3.273090e+11</td>\n",
       "      <td>19.0</td>\n",
       "      <td>61.0</td>\n",
       "      <td>0.109007</td>\n",
       "      <td>0.035282</td>\n",
       "      <td>Oceania</td>\n",
       "    </tr>\n",
       "    <tr>\n",
       "      <th>4</th>\n",
       "      <td>Austria</td>\n",
       "      <td>0.858880</td>\n",
       "      <td>High income</td>\n",
       "      <td>4.550000e+11</td>\n",
       "      <td>5.146195e+09</td>\n",
       "      <td>4.747321</td>\n",
       "      <td>8840521.0</td>\n",
       "      <td>2.538070e+11</td>\n",
       "      <td>108.0</td>\n",
       "      <td>73.0</td>\n",
       "      <td>0.133552</td>\n",
       "      <td>0.016714</td>\n",
       "      <td>Europe</td>\n",
       "    </tr>\n",
       "    <tr>\n",
       "      <th>...</th>\n",
       "      <td>...</td>\n",
       "      <td>...</td>\n",
       "      <td>...</td>\n",
       "      <td>...</td>\n",
       "      <td>...</td>\n",
       "      <td>...</td>\n",
       "      <td>...</td>\n",
       "      <td>...</td>\n",
       "      <td>...</td>\n",
       "      <td>...</td>\n",
       "      <td>...</td>\n",
       "      <td>...</td>\n",
       "      <td>...</td>\n",
       "    </tr>\n",
       "    <tr>\n",
       "      <th>66</th>\n",
       "      <td>Turkey</td>\n",
       "      <td>0.862534</td>\n",
       "      <td>Upper middle income</td>\n",
       "      <td>7.710000e+11</td>\n",
       "      <td>9.370177e+09</td>\n",
       "      <td>9.420315</td>\n",
       "      <td>82319724.0</td>\n",
       "      <td>2.379320e+11</td>\n",
       "      <td>168.0</td>\n",
       "      <td>79.0</td>\n",
       "      <td>0.134801</td>\n",
       "      <td>0.026778</td>\n",
       "      <td>Asia</td>\n",
       "    </tr>\n",
       "    <tr>\n",
       "      <th>67</th>\n",
       "      <td>Ukraine</td>\n",
       "      <td>0.884646</td>\n",
       "      <td>Lower middle income</td>\n",
       "      <td>1.310000e+11</td>\n",
       "      <td>3.095174e+09</td>\n",
       "      <td>NaN</td>\n",
       "      <td>44622516.0</td>\n",
       "      <td>5.913500e+10</td>\n",
       "      <td>11.0</td>\n",
       "      <td>79.0</td>\n",
       "      <td>0.106537</td>\n",
       "      <td>0.007970</td>\n",
       "      <td>Europe</td>\n",
       "    </tr>\n",
       "    <tr>\n",
       "      <th>68</th>\n",
       "      <td>United Arab Emirates</td>\n",
       "      <td>0.840435</td>\n",
       "      <td>High income</td>\n",
       "      <td>4.140000e+11</td>\n",
       "      <td>4.300495e+09</td>\n",
       "      <td>NaN</td>\n",
       "      <td>9630959.0</td>\n",
       "      <td>NaN</td>\n",
       "      <td>5.0</td>\n",
       "      <td>82.0</td>\n",
       "      <td>0.136058</td>\n",
       "      <td>0.074255</td>\n",
       "      <td>Asia</td>\n",
       "    </tr>\n",
       "    <tr>\n",
       "      <th>69</th>\n",
       "      <td>United Kingdom</td>\n",
       "      <td>0.833206</td>\n",
       "      <td>High income</td>\n",
       "      <td>2.860000e+12</td>\n",
       "      <td>4.294390e+09</td>\n",
       "      <td>7.390182</td>\n",
       "      <td>66460344.0</td>\n",
       "      <td>8.757610e+11</td>\n",
       "      <td>2043.0</td>\n",
       "      <td>67.0</td>\n",
       "      <td>0.145363</td>\n",
       "      <td>0.101323</td>\n",
       "      <td>Europe</td>\n",
       "    </tr>\n",
       "    <tr>\n",
       "      <th>70</th>\n",
       "      <td>United States</td>\n",
       "      <td>0.532071</td>\n",
       "      <td>High income</td>\n",
       "      <td>2.050000e+13</td>\n",
       "      <td>6.279459e+09</td>\n",
       "      <td>1.749506</td>\n",
       "      <td>326687501.0</td>\n",
       "      <td>2.501310e+12</td>\n",
       "      <td>3170.0</td>\n",
       "      <td>61.0</td>\n",
       "      <td>0.145227</td>\n",
       "      <td>0.171243</td>\n",
       "      <td>North America</td>\n",
       "    </tr>\n",
       "  </tbody>\n",
       "</table>\n",
       "<p>71 rows × 13 columns</p>\n",
       "</div>"
      ],
      "text/plain": [
       "                    pais  pct_loss          IncomeGroup           gdp  \\\n",
       "0                Algeria  0.907910  Upper middle income  1.740000e+11   \n",
       "1              Argentina  0.907540  Upper middle income  5.200000e+11   \n",
       "2                Armenia  0.903259  Upper middle income  1.243309e+10   \n",
       "3              Australia  0.595010          High income  1.430000e+12   \n",
       "4                Austria  0.858880          High income  4.550000e+11   \n",
       "..                   ...       ...                  ...           ...   \n",
       "66                Turkey  0.862534  Upper middle income  7.710000e+11   \n",
       "67               Ukraine  0.884646  Lower middle income  1.310000e+11   \n",
       "68  United Arab Emirates  0.840435          High income  4.140000e+11   \n",
       "69        United Kingdom  0.833206          High income  2.860000e+12   \n",
       "70         United States  0.532071          High income  2.050000e+13   \n",
       "\n",
       "          gdp_pc  Output-CLI percent impact          pop  value_goods_serv  \\\n",
       "0   4.114715e+09                        NaN   42228429.0               NaN   \n",
       "1   1.168395e+09                        NaN   44494502.0      7.680732e+10   \n",
       "2   4.212071e+09                        NaN    2951776.0      4.700349e+09   \n",
       "3   5.737369e+09                   3.599705   24982688.0      3.273090e+11   \n",
       "4   5.146195e+09                   4.747321    8840521.0      2.538070e+11   \n",
       "..           ...                        ...          ...               ...   \n",
       "66  9.370177e+09                   9.420315   82319724.0      2.379320e+11   \n",
       "67  3.095174e+09                        NaN   44622516.0      5.913500e+10   \n",
       "68  4.300495e+09                        NaN    9630959.0               NaN   \n",
       "69  4.294390e+09                   7.390182   66460344.0      8.757610e+11   \n",
       "70  6.279459e+09                   1.749506  326687501.0      2.501310e+12   \n",
       "\n",
       "    TotalDeaths31/03  1stDay  centrality  prob_target      continent  \n",
       "0               35.0    73.0    0.084755     0.004530         Africa  \n",
       "1               24.0    68.0    0.085773     0.021742  South America  \n",
       "2                3.0    87.0    0.035566     0.000456           Asia  \n",
       "3               19.0    61.0    0.109007     0.035282        Oceania  \n",
       "4              108.0    73.0    0.133552     0.016714         Europe  \n",
       "..               ...     ...         ...          ...            ...  \n",
       "66             168.0    79.0    0.134801     0.026778           Asia  \n",
       "67              11.0    79.0    0.106537     0.007970         Europe  \n",
       "68               5.0    82.0    0.136058     0.074255           Asia  \n",
       "69            2043.0    67.0    0.145363     0.101323         Europe  \n",
       "70            3170.0    61.0    0.145227     0.171243  North America  \n",
       "\n",
       "[71 rows x 13 columns]"
      ]
     },
     "execution_count": 19,
     "metadata": {},
     "output_type": "execute_result"
    }
   ],
   "source": [
    "df"
   ]
  },
  {
   "cell_type": "markdown",
   "metadata": {},
   "source": [
    "# Plots"
   ]
  },
  {
   "cell_type": "code",
   "execution_count": 20,
   "metadata": {},
   "outputs": [
    {
     "data": {
      "image/png": "[encoded data removed]",
      "text/plain": [
       "<Figure size 432x288 with 1 Axes>"
      ]
     },
     "metadata": {},
     "output_type": "display_data"
    }
   ],
   "source": [
    "ax = sns.scatterplot(x=\"pct_loss\", y=\"gdp\", hue=\"IncomeGroup\", data=df)\n",
    "ax.set(yticks=[])\n",
    "plt.show()"
   ]
  },
  {
   "cell_type": "code",
   "execution_count": 21,
   "metadata": {},
   "outputs": [
    {
     "data": {
      "text/html": [
       "<div>\n",
       "<style scoped>\n",
       "    .dataframe tbody tr th:only-of-type {\n",
       "        vertical-align: middle;\n",
       "    }\n",
       "\n",
       "    .dataframe tbody tr th {\n",
       "        vertical-align: top;\n",
       "    }\n",
       "\n",
       "    .dataframe thead th {\n",
       "        text-align: right;\n",
       "    }\n",
       "</style>\n",
       "<table border=\"1\" class=\"dataframe\">\n",
       "  <thead>\n",
       "    <tr style=\"text-align: right;\">\n",
       "      <th></th>\n",
       "      <th>pais</th>\n",
       "      <th>pct_loss</th>\n",
       "      <th>IncomeGroup</th>\n",
       "      <th>gdp</th>\n",
       "      <th>gdp_pc</th>\n",
       "      <th>Output-CLI percent impact</th>\n",
       "      <th>pop</th>\n",
       "      <th>value_goods_serv</th>\n",
       "      <th>TotalDeaths31/03</th>\n",
       "      <th>1stDay</th>\n",
       "      <th>centrality</th>\n",
       "      <th>prob_target</th>\n",
       "      <th>continent</th>\n",
       "    </tr>\n",
       "  </thead>\n",
       "  <tbody>\n",
       "    <tr>\n",
       "      <th>70</th>\n",
       "      <td>United States</td>\n",
       "      <td>0.532071</td>\n",
       "      <td>High income</td>\n",
       "      <td>2.050000e+13</td>\n",
       "      <td>6.279459e+09</td>\n",
       "      <td>1.749506</td>\n",
       "      <td>3.266875e+08</td>\n",
       "      <td>2.501310e+12</td>\n",
       "      <td>3170.0</td>\n",
       "      <td>61.0</td>\n",
       "      <td>0.145227</td>\n",
       "      <td>0.171243</td>\n",
       "      <td>North America</td>\n",
       "    </tr>\n",
       "    <tr>\n",
       "      <th>13</th>\n",
       "      <td>China</td>\n",
       "      <td>0.308714</td>\n",
       "      <td>Upper middle income</td>\n",
       "      <td>1.360000e+13</td>\n",
       "      <td>9.770847e+09</td>\n",
       "      <td>1.640852</td>\n",
       "      <td>1.392730e+09</td>\n",
       "      <td>2.651010e+12</td>\n",
       "      <td>3309.0</td>\n",
       "      <td>11.0</td>\n",
       "      <td>0.096098</td>\n",
       "      <td>0.004609</td>\n",
       "      <td>Asia</td>\n",
       "    </tr>\n",
       "    <tr>\n",
       "      <th>34</th>\n",
       "      <td>Japan</td>\n",
       "      <td>0.714520</td>\n",
       "      <td>High income</td>\n",
       "      <td>4.970000e+12</td>\n",
       "      <td>3.928996e+09</td>\n",
       "      <td>1.623814</td>\n",
       "      <td>1.265291e+08</td>\n",
       "      <td>9.293600e+11</td>\n",
       "      <td>56.0</td>\n",
       "      <td>44.0</td>\n",
       "      <td>0.116034</td>\n",
       "      <td>0.020682</td>\n",
       "      <td>Asia</td>\n",
       "    </tr>\n",
       "    <tr>\n",
       "      <th>24</th>\n",
       "      <td>Germany</td>\n",
       "      <td>0.720229</td>\n",
       "      <td>High income</td>\n",
       "      <td>3.950000e+12</td>\n",
       "      <td>4.760303e+09</td>\n",
       "      <td>5.248947</td>\n",
       "      <td>8.290578e+07</td>\n",
       "      <td>1.876900e+12</td>\n",
       "      <td>583.0</td>\n",
       "      <td>70.0</td>\n",
       "      <td>0.145200</td>\n",
       "      <td>0.080236</td>\n",
       "      <td>Europe</td>\n",
       "    </tr>\n",
       "    <tr>\n",
       "      <th>69</th>\n",
       "      <td>United Kingdom</td>\n",
       "      <td>0.833206</td>\n",
       "      <td>High income</td>\n",
       "      <td>2.860000e+12</td>\n",
       "      <td>4.294390e+09</td>\n",
       "      <td>7.390182</td>\n",
       "      <td>6.646034e+07</td>\n",
       "      <td>8.757610e+11</td>\n",
       "      <td>2043.0</td>\n",
       "      <td>67.0</td>\n",
       "      <td>0.145363</td>\n",
       "      <td>0.101323</td>\n",
       "      <td>Europe</td>\n",
       "    </tr>\n",
       "    <tr>\n",
       "      <th>22</th>\n",
       "      <td>France</td>\n",
       "      <td>0.847134</td>\n",
       "      <td>High income</td>\n",
       "      <td>2.780000e+12</td>\n",
       "      <td>4.146364e+09</td>\n",
       "      <td>6.520510</td>\n",
       "      <td>6.697711e+07</td>\n",
       "      <td>9.052890e+11</td>\n",
       "      <td>3024.0</td>\n",
       "      <td>46.0</td>\n",
       "      <td>0.145617</td>\n",
       "      <td>0.053842</td>\n",
       "      <td>Europe</td>\n",
       "    </tr>\n",
       "    <tr>\n",
       "      <th>29</th>\n",
       "      <td>India</td>\n",
       "      <td>0.948125</td>\n",
       "      <td>Lower middle income</td>\n",
       "      <td>2.720000e+12</td>\n",
       "      <td>2.009979e+09</td>\n",
       "      <td>4.652658</td>\n",
       "      <td>1.352617e+09</td>\n",
       "      <td>5.370420e+11</td>\n",
       "      <td>32.0</td>\n",
       "      <td>73.0</td>\n",
       "      <td>0.130890</td>\n",
       "      <td>0.040967</td>\n",
       "      <td>Asia</td>\n",
       "    </tr>\n",
       "    <tr>\n",
       "      <th>33</th>\n",
       "      <td>Italy</td>\n",
       "      <td>0.870898</td>\n",
       "      <td>High income</td>\n",
       "      <td>2.080000e+12</td>\n",
       "      <td>3.448320e+07</td>\n",
       "      <td>4.068059</td>\n",
       "      <td>6.042176e+07</td>\n",
       "      <td>6.559120e+11</td>\n",
       "      <td>11591.0</td>\n",
       "      <td>54.0</td>\n",
       "      <td>0.142501</td>\n",
       "      <td>0.040350</td>\n",
       "      <td>Europe</td>\n",
       "    </tr>\n",
       "    <tr>\n",
       "      <th>11</th>\n",
       "      <td>Brazil</td>\n",
       "      <td>0.848348</td>\n",
       "      <td>Upper middle income</td>\n",
       "      <td>1.870000e+12</td>\n",
       "      <td>8.920762e+09</td>\n",
       "      <td>5.880663</td>\n",
       "      <td>2.094693e+08</td>\n",
       "      <td>2.749770e+11</td>\n",
       "      <td>159.0</td>\n",
       "      <td>78.0</td>\n",
       "      <td>0.107166</td>\n",
       "      <td>0.034008</td>\n",
       "      <td>South America</td>\n",
       "    </tr>\n",
       "    <tr>\n",
       "      <th>12</th>\n",
       "      <td>Canada</td>\n",
       "      <td>0.746740</td>\n",
       "      <td>High income</td>\n",
       "      <td>1.710000e+12</td>\n",
       "      <td>4.623299e+09</td>\n",
       "      <td>2.116261</td>\n",
       "      <td>3.705776e+07</td>\n",
       "      <td>5.504510e+11</td>\n",
       "      <td>89.0</td>\n",
       "      <td>70.0</td>\n",
       "      <td>0.131519</td>\n",
       "      <td>0.026760</td>\n",
       "      <td>North America</td>\n",
       "    </tr>\n",
       "  </tbody>\n",
       "</table>\n",
       "</div>"
      ],
      "text/plain": [
       "              pais  pct_loss          IncomeGroup           gdp        gdp_pc  \\\n",
       "70   United States  0.532071          High income  2.050000e+13  6.279459e+09   \n",
       "13           China  0.308714  Upper middle income  1.360000e+13  9.770847e+09   \n",
       "34           Japan  0.714520          High income  4.970000e+12  3.928996e+09   \n",
       "24         Germany  0.720229          High income  3.950000e+12  4.760303e+09   \n",
       "69  United Kingdom  0.833206          High income  2.860000e+12  4.294390e+09   \n",
       "22          France  0.847134          High income  2.780000e+12  4.146364e+09   \n",
       "29           India  0.948125  Lower middle income  2.720000e+12  2.009979e+09   \n",
       "33           Italy  0.870898          High income  2.080000e+12  3.448320e+07   \n",
       "11          Brazil  0.848348  Upper middle income  1.870000e+12  8.920762e+09   \n",
       "12          Canada  0.746740          High income  1.710000e+12  4.623299e+09   \n",
       "\n",
       "    Output-CLI percent impact           pop  value_goods_serv  \\\n",
       "70                   1.749506  3.266875e+08      2.501310e+12   \n",
       "13                   1.640852  1.392730e+09      2.651010e+12   \n",
       "34                   1.623814  1.265291e+08      9.293600e+11   \n",
       "24                   5.248947  8.290578e+07      1.876900e+12   \n",
       "69                   7.390182  6.646034e+07      8.757610e+11   \n",
       "22                   6.520510  6.697711e+07      9.052890e+11   \n",
       "29                   4.652658  1.352617e+09      5.370420e+11   \n",
       "33                   4.068059  6.042176e+07      6.559120e+11   \n",
       "11                   5.880663  2.094693e+08      2.749770e+11   \n",
       "12                   2.116261  3.705776e+07      5.504510e+11   \n",
       "\n",
       "    TotalDeaths31/03  1stDay  centrality  prob_target      continent  \n",
       "70            3170.0    61.0    0.145227     0.171243  North America  \n",
       "13            3309.0    11.0    0.096098     0.004609           Asia  \n",
       "34              56.0    44.0    0.116034     0.020682           Asia  \n",
       "24             583.0    70.0    0.145200     0.080236         Europe  \n",
       "69            2043.0    67.0    0.145363     0.101323         Europe  \n",
       "22            3024.0    46.0    0.145617     0.053842         Europe  \n",
       "29              32.0    73.0    0.130890     0.040967           Asia  \n",
       "33           11591.0    54.0    0.142501     0.040350         Europe  \n",
       "11             159.0    78.0    0.107166     0.034008  South America  \n",
       "12              89.0    70.0    0.131519     0.026760  North America  "
      ]
     },
     "execution_count": 21,
     "metadata": {},
     "output_type": "execute_result"
    }
   ],
   "source": [
    "df.nlargest(10, 'gdp')"
   ]
  },
  {
   "cell_type": "code",
   "execution_count": 22,
   "metadata": {},
   "outputs": [
    {
     "data": {
      "text/html": [
       "<div>\n",
       "<style scoped>\n",
       "    .dataframe tbody tr th:only-of-type {\n",
       "        vertical-align: middle;\n",
       "    }\n",
       "\n",
       "    .dataframe tbody tr th {\n",
       "        vertical-align: top;\n",
       "    }\n",
       "\n",
       "    .dataframe thead th {\n",
       "        text-align: right;\n",
       "    }\n",
       "</style>\n",
       "<table border=\"1\" class=\"dataframe\">\n",
       "  <thead>\n",
       "    <tr style=\"text-align: right;\">\n",
       "      <th></th>\n",
       "      <th>pais</th>\n",
       "      <th>pct_loss</th>\n",
       "      <th>IncomeGroup</th>\n",
       "      <th>gdp</th>\n",
       "      <th>gdp_pc</th>\n",
       "      <th>Output-CLI percent impact</th>\n",
       "      <th>pop</th>\n",
       "      <th>value_goods_serv</th>\n",
       "      <th>TotalDeaths31/03</th>\n",
       "      <th>1stDay</th>\n",
       "      <th>centrality</th>\n",
       "      <th>prob_target</th>\n",
       "      <th>continent</th>\n",
       "    </tr>\n",
       "  </thead>\n",
       "  <tbody>\n",
       "    <tr>\n",
       "      <th>7</th>\n",
       "      <td>Barbados</td>\n",
       "      <td>0.949394</td>\n",
       "      <td>High income</td>\n",
       "      <td>5.145000e+09</td>\n",
       "      <td>1.794928e+09</td>\n",
       "      <td>NaN</td>\n",
       "      <td>286641.0</td>\n",
       "      <td>NaN</td>\n",
       "      <td>0.0</td>\n",
       "      <td>97.0</td>\n",
       "      <td>0.035372</td>\n",
       "      <td>0.081896</td>\n",
       "      <td>North America</td>\n",
       "    </tr>\n",
       "    <tr>\n",
       "      <th>2</th>\n",
       "      <td>Armenia</td>\n",
       "      <td>0.903259</td>\n",
       "      <td>Upper middle income</td>\n",
       "      <td>1.243309e+10</td>\n",
       "      <td>4.212071e+09</td>\n",
       "      <td>NaN</td>\n",
       "      <td>2951776.0</td>\n",
       "      <td>4.700349e+09</td>\n",
       "      <td>3.0</td>\n",
       "      <td>87.0</td>\n",
       "      <td>0.035566</td>\n",
       "      <td>0.000456</td>\n",
       "      <td>Asia</td>\n",
       "    </tr>\n",
       "    <tr>\n",
       "      <th>40</th>\n",
       "      <td>Malta</td>\n",
       "      <td>0.867303</td>\n",
       "      <td>High income</td>\n",
       "      <td>1.455342e+10</td>\n",
       "      <td>3.009828e+09</td>\n",
       "      <td>NaN</td>\n",
       "      <td>484630.0</td>\n",
       "      <td>2.102934e+10</td>\n",
       "      <td>0.0</td>\n",
       "      <td>100.0</td>\n",
       "      <td>0.115190</td>\n",
       "      <td>0.002541</td>\n",
       "      <td>Europe</td>\n",
       "    </tr>\n",
       "    <tr>\n",
       "      <th>54</th>\n",
       "      <td>Senegal</td>\n",
       "      <td>0.822947</td>\n",
       "      <td>Lower middle income</td>\n",
       "      <td>2.412960e+10</td>\n",
       "      <td>1.521954e+09</td>\n",
       "      <td>NaN</td>\n",
       "      <td>15854360.0</td>\n",
       "      <td>5.287038e+09</td>\n",
       "      <td>0.0</td>\n",
       "      <td>93.0</td>\n",
       "      <td>0.096723</td>\n",
       "      <td>0.036341</td>\n",
       "      <td>Africa</td>\n",
       "    </tr>\n",
       "    <tr>\n",
       "      <th>28</th>\n",
       "      <td>Iceland</td>\n",
       "      <td>0.716513</td>\n",
       "      <td>High income</td>\n",
       "      <td>2.587847e+10</td>\n",
       "      <td>7.319112e+09</td>\n",
       "      <td>1.194950</td>\n",
       "      <td>352721.0</td>\n",
       "      <td>1.224252e+10</td>\n",
       "      <td>2.0</td>\n",
       "      <td>80.0</td>\n",
       "      <td>0.098409</td>\n",
       "      <td>0.003140</td>\n",
       "      <td>Europe</td>\n",
       "    </tr>\n",
       "    <tr>\n",
       "      <th>20</th>\n",
       "      <td>Estonia</td>\n",
       "      <td>0.779335</td>\n",
       "      <td>High income</td>\n",
       "      <td>3.073214e+10</td>\n",
       "      <td>2.326635e+09</td>\n",
       "      <td>-1.412185</td>\n",
       "      <td>1321977.0</td>\n",
       "      <td>2.281175e+10</td>\n",
       "      <td>3.0</td>\n",
       "      <td>86.0</td>\n",
       "      <td>0.096465</td>\n",
       "      <td>0.002950</td>\n",
       "      <td>Europe</td>\n",
       "    </tr>\n",
       "    <tr>\n",
       "      <th>36</th>\n",
       "      <td>Latvia</td>\n",
       "      <td>0.934167</td>\n",
       "      <td>High income</td>\n",
       "      <td>3.440923e+10</td>\n",
       "      <td>1.786062e+08</td>\n",
       "      <td>NaN</td>\n",
       "      <td>1927174.0</td>\n",
       "      <td>2.108244e+10</td>\n",
       "      <td>0.0</td>\n",
       "      <td>95.0</td>\n",
       "      <td>0.102359</td>\n",
       "      <td>0.008210</td>\n",
       "      <td>Europe</td>\n",
       "    </tr>\n",
       "    <tr>\n",
       "      <th>5</th>\n",
       "      <td>Bahrain</td>\n",
       "      <td>0.773246</td>\n",
       "      <td>High income</td>\n",
       "      <td>3.774620e+10</td>\n",
       "      <td>2.405076e+09</td>\n",
       "      <td>NaN</td>\n",
       "      <td>1569439.0</td>\n",
       "      <td>3.009734e+10</td>\n",
       "      <td>4.0</td>\n",
       "      <td>77.0</td>\n",
       "      <td>0.095976</td>\n",
       "      <td>0.010190</td>\n",
       "      <td>Asia</td>\n",
       "    </tr>\n",
       "    <tr>\n",
       "      <th>10</th>\n",
       "      <td>Bolivia</td>\n",
       "      <td>0.899377</td>\n",
       "      <td>Lower middle income</td>\n",
       "      <td>4.028765e+10</td>\n",
       "      <td>3.548590e+08</td>\n",
       "      <td>NaN</td>\n",
       "      <td>11353142.0</td>\n",
       "      <td>1.035339e+10</td>\n",
       "      <td>6.0</td>\n",
       "      <td>90.0</td>\n",
       "      <td>0.026674</td>\n",
       "      <td>0.007770</td>\n",
       "      <td>South America</td>\n",
       "    </tr>\n",
       "    <tr>\n",
       "      <th>55</th>\n",
       "      <td>Serbia</td>\n",
       "      <td>0.852539</td>\n",
       "      <td>Upper middle income</td>\n",
       "      <td>5.059729e+10</td>\n",
       "      <td>7.246732e+09</td>\n",
       "      <td>NaN</td>\n",
       "      <td>6982604.0</td>\n",
       "      <td>2.496695e+10</td>\n",
       "      <td>13.0</td>\n",
       "      <td>81.0</td>\n",
       "      <td>0.095028</td>\n",
       "      <td>0.006989</td>\n",
       "      <td>Europe</td>\n",
       "    </tr>\n",
       "  </tbody>\n",
       "</table>\n",
       "</div>"
      ],
      "text/plain": [
       "        pais  pct_loss          IncomeGroup           gdp        gdp_pc  \\\n",
       "7   Barbados  0.949394          High income  5.145000e+09  1.794928e+09   \n",
       "2    Armenia  0.903259  Upper middle income  1.243309e+10  4.212071e+09   \n",
       "40     Malta  0.867303          High income  1.455342e+10  3.009828e+09   \n",
       "54   Senegal  0.822947  Lower middle income  2.412960e+10  1.521954e+09   \n",
       "28   Iceland  0.716513          High income  2.587847e+10  7.319112e+09   \n",
       "20   Estonia  0.779335          High income  3.073214e+10  2.326635e+09   \n",
       "36    Latvia  0.934167          High income  3.440923e+10  1.786062e+08   \n",
       "5    Bahrain  0.773246          High income  3.774620e+10  2.405076e+09   \n",
       "10   Bolivia  0.899377  Lower middle income  4.028765e+10  3.548590e+08   \n",
       "55    Serbia  0.852539  Upper middle income  5.059729e+10  7.246732e+09   \n",
       "\n",
       "    Output-CLI percent impact         pop  value_goods_serv  TotalDeaths31/03  \\\n",
       "7                         NaN    286641.0               NaN               0.0   \n",
       "2                         NaN   2951776.0      4.700349e+09               3.0   \n",
       "40                        NaN    484630.0      2.102934e+10               0.0   \n",
       "54                        NaN  15854360.0      5.287038e+09               0.0   \n",
       "28                   1.194950    352721.0      1.224252e+10               2.0   \n",
       "20                  -1.412185   1321977.0      2.281175e+10               3.0   \n",
       "36                        NaN   1927174.0      2.108244e+10               0.0   \n",
       "5                         NaN   1569439.0      3.009734e+10               4.0   \n",
       "10                        NaN  11353142.0      1.035339e+10               6.0   \n",
       "55                        NaN   6982604.0      2.496695e+10              13.0   \n",
       "\n",
       "    1stDay  centrality  prob_target      continent  \n",
       "7     97.0    0.035372     0.081896  North America  \n",
       "2     87.0    0.035566     0.000456           Asia  \n",
       "40   100.0    0.115190     0.002541         Europe  \n",
       "54    93.0    0.096723     0.036341         Africa  \n",
       "28    80.0    0.098409     0.003140         Europe  \n",
       "20    86.0    0.096465     0.002950         Europe  \n",
       "36    95.0    0.102359     0.008210         Europe  \n",
       "5     77.0    0.095976     0.010190           Asia  \n",
       "10    90.0    0.026674     0.007770  South America  \n",
       "55    81.0    0.095028     0.006989         Europe  "
      ]
     },
     "execution_count": 22,
     "metadata": {},
     "output_type": "execute_result"
    }
   ],
   "source": [
    "df.nsmallest(10, 'gdp')"
   ]
  },
  {
   "cell_type": "code",
   "execution_count": 24,
   "metadata": {},
   "outputs": [
    {
     "name": "stdout",
     "output_type": "stream",
     "text": [
      "Correlação pct_loss e gdp: -0.549205917302793\n",
      "Correlação pct_loss e gdp_pc: -0.39449524466891345\n",
      "Correlação pct_loss e Output-CLI percent impact: 0.2639928202723868\n",
      "Correlação pct_loss e pop: -0.30924511248564923\n",
      "Correlação pct_loss e value_goods_serv: -0.5438525522430406\n",
      "Correlação pct_loss e TotalDeaths31/03: -0.06858924195868014\n",
      "Correlação pct_loss e 1stDay: 0.2889185627186436\n",
      "Correlação pct_loss e centrality: -0.2430220834210257\n",
      "Correlação pct_loss e prob_target: -0.10609867399665322\n"
     ]
    }
   ],
   "source": [
    "for c in df.columns:\n",
    "    if c not in ['continent', 'pais', 'pct_loss', 'IncomeGroup']:\n",
    "        print('Correlação pct_loss e {}: {}'.format(c,df[[c, 'pct_loss']].corr().values[0][1]))"
   ]
  },
  {
   "cell_type": "code",
   "execution_count": 25,
   "metadata": {},
   "outputs": [
    {
     "data": {
      "text/plain": [
       "0.8027872668909226"
      ]
     },
     "execution_count": 25,
     "metadata": {},
     "output_type": "execute_result"
    }
   ],
   "source": [
    "df.pct_loss.mean()"
   ]
  },
  {
   "cell_type": "code",
   "execution_count": 26,
   "metadata": {},
   "outputs": [
    {
     "data": {
      "text/html": [
       "<div>\n",
       "<style scoped>\n",
       "    .dataframe tbody tr th:only-of-type {\n",
       "        vertical-align: middle;\n",
       "    }\n",
       "\n",
       "    .dataframe tbody tr th {\n",
       "        vertical-align: top;\n",
       "    }\n",
       "\n",
       "    .dataframe thead th {\n",
       "        text-align: right;\n",
       "    }\n",
       "</style>\n",
       "<table border=\"1\" class=\"dataframe\">\n",
       "  <thead>\n",
       "    <tr style=\"text-align: right;\">\n",
       "      <th></th>\n",
       "      <th>pais</th>\n",
       "      <th>pct_loss</th>\n",
       "      <th>IncomeGroup</th>\n",
       "      <th>gdp</th>\n",
       "      <th>gdp_pc</th>\n",
       "      <th>Output-CLI percent impact</th>\n",
       "      <th>pop</th>\n",
       "      <th>value_goods_serv</th>\n",
       "      <th>TotalDeaths31/03</th>\n",
       "      <th>1stDay</th>\n",
       "      <th>centrality</th>\n",
       "      <th>prob_target</th>\n",
       "      <th>continent</th>\n",
       "    </tr>\n",
       "  </thead>\n",
       "  <tbody>\n",
       "    <tr>\n",
       "      <th>19</th>\n",
       "      <td>Dominican Republic</td>\n",
       "      <td>0.976517</td>\n",
       "      <td>Upper middle income</td>\n",
       "      <td>8.555539e+10</td>\n",
       "      <td>8.050632e+09</td>\n",
       "      <td>NaN</td>\n",
       "      <td>1.062716e+07</td>\n",
       "      <td>2.019170e+10</td>\n",
       "      <td>42.0</td>\n",
       "      <td>81.0</td>\n",
       "      <td>0.038592</td>\n",
       "      <td>0.000779</td>\n",
       "      <td>North America</td>\n",
       "    </tr>\n",
       "    <tr>\n",
       "      <th>61</th>\n",
       "      <td>Sri Lanka</td>\n",
       "      <td>0.954189</td>\n",
       "      <td>Upper middle income</td>\n",
       "      <td>8.890077e+10</td>\n",
       "      <td>4.102481e+08</td>\n",
       "      <td>NaN</td>\n",
       "      <td>2.167000e+07</td>\n",
       "      <td>2.026379e+10</td>\n",
       "      <td>1.0</td>\n",
       "      <td>89.0</td>\n",
       "      <td>0.081582</td>\n",
       "      <td>0.002944</td>\n",
       "      <td>Asia</td>\n",
       "    </tr>\n",
       "    <tr>\n",
       "      <th>7</th>\n",
       "      <td>Barbados</td>\n",
       "      <td>0.949394</td>\n",
       "      <td>High income</td>\n",
       "      <td>5.145000e+09</td>\n",
       "      <td>1.794928e+09</td>\n",
       "      <td>NaN</td>\n",
       "      <td>2.866410e+05</td>\n",
       "      <td>NaN</td>\n",
       "      <td>0.0</td>\n",
       "      <td>97.0</td>\n",
       "      <td>0.035372</td>\n",
       "      <td>0.081896</td>\n",
       "      <td>North America</td>\n",
       "    </tr>\n",
       "    <tr>\n",
       "      <th>29</th>\n",
       "      <td>India</td>\n",
       "      <td>0.948125</td>\n",
       "      <td>Lower middle income</td>\n",
       "      <td>2.720000e+12</td>\n",
       "      <td>2.009979e+09</td>\n",
       "      <td>4.652658</td>\n",
       "      <td>1.352617e+09</td>\n",
       "      <td>5.370420e+11</td>\n",
       "      <td>32.0</td>\n",
       "      <td>73.0</td>\n",
       "      <td>0.130890</td>\n",
       "      <td>0.040967</td>\n",
       "      <td>Asia</td>\n",
       "    </tr>\n",
       "    <tr>\n",
       "      <th>65</th>\n",
       "      <td>Thailand</td>\n",
       "      <td>0.936293</td>\n",
       "      <td>Upper middle income</td>\n",
       "      <td>5.050000e+11</td>\n",
       "      <td>7.273563e+09</td>\n",
       "      <td>NaN</td>\n",
       "      <td>6.942852e+07</td>\n",
       "      <td>3.285820e+11</td>\n",
       "      <td>10.0</td>\n",
       "      <td>61.0</td>\n",
       "      <td>0.107106</td>\n",
       "      <td>0.025415</td>\n",
       "      <td>Asia</td>\n",
       "    </tr>\n",
       "    <tr>\n",
       "      <th>36</th>\n",
       "      <td>Latvia</td>\n",
       "      <td>0.934167</td>\n",
       "      <td>High income</td>\n",
       "      <td>3.440923e+10</td>\n",
       "      <td>1.786062e+08</td>\n",
       "      <td>NaN</td>\n",
       "      <td>1.927174e+06</td>\n",
       "      <td>2.108244e+10</td>\n",
       "      <td>0.0</td>\n",
       "      <td>95.0</td>\n",
       "      <td>0.102359</td>\n",
       "      <td>0.008210</td>\n",
       "      <td>Europe</td>\n",
       "    </tr>\n",
       "    <tr>\n",
       "      <th>58</th>\n",
       "      <td>South Africa</td>\n",
       "      <td>0.924688</td>\n",
       "      <td>Upper middle income</td>\n",
       "      <td>3.680000e+11</td>\n",
       "      <td>6.374028e+09</td>\n",
       "      <td>-0.537225</td>\n",
       "      <td>5.777962e+07</td>\n",
       "      <td>1.100680e+11</td>\n",
       "      <td>3.0</td>\n",
       "      <td>87.0</td>\n",
       "      <td>0.114750</td>\n",
       "      <td>0.030234</td>\n",
       "      <td>Africa</td>\n",
       "    </tr>\n",
       "    <tr>\n",
       "      <th>39</th>\n",
       "      <td>Malaysia</td>\n",
       "      <td>0.920697</td>\n",
       "      <td>Upper middle income</td>\n",
       "      <td>3.590000e+11</td>\n",
       "      <td>1.137323e+07</td>\n",
       "      <td>NaN</td>\n",
       "      <td>3.152858e+07</td>\n",
       "      <td>2.464690e+11</td>\n",
       "      <td>37.0</td>\n",
       "      <td>78.0</td>\n",
       "      <td>0.105052</td>\n",
       "      <td>0.043233</td>\n",
       "      <td>Asia</td>\n",
       "    </tr>\n",
       "    <tr>\n",
       "      <th>48</th>\n",
       "      <td>Portugal</td>\n",
       "      <td>0.916243</td>\n",
       "      <td>High income</td>\n",
       "      <td>2.410000e+11</td>\n",
       "      <td>2.340791e+09</td>\n",
       "      <td>8.163515</td>\n",
       "      <td>1.028382e+07</td>\n",
       "      <td>1.056780e+11</td>\n",
       "      <td>140.0</td>\n",
       "      <td>78.0</td>\n",
       "      <td>0.121284</td>\n",
       "      <td>0.020749</td>\n",
       "      <td>Europe</td>\n",
       "    </tr>\n",
       "    <tr>\n",
       "      <th>46</th>\n",
       "      <td>Philippines</td>\n",
       "      <td>0.915664</td>\n",
       "      <td>Lower middle income</td>\n",
       "      <td>3.310000e+11</td>\n",
       "      <td>3.102713e+09</td>\n",
       "      <td>NaN</td>\n",
       "      <td>1.066519e+08</td>\n",
       "      <td>9.039707e+10</td>\n",
       "      <td>88.0</td>\n",
       "      <td>33.0</td>\n",
       "      <td>0.105591</td>\n",
       "      <td>0.013855</td>\n",
       "      <td>Asia</td>\n",
       "    </tr>\n",
       "  </tbody>\n",
       "</table>\n",
       "</div>"
      ],
      "text/plain": [
       "                  pais  pct_loss          IncomeGroup           gdp  \\\n",
       "19  Dominican Republic  0.976517  Upper middle income  8.555539e+10   \n",
       "61           Sri Lanka  0.954189  Upper middle income  8.890077e+10   \n",
       "7             Barbados  0.949394          High income  5.145000e+09   \n",
       "29               India  0.948125  Lower middle income  2.720000e+12   \n",
       "65            Thailand  0.936293  Upper middle income  5.050000e+11   \n",
       "36              Latvia  0.934167          High income  3.440923e+10   \n",
       "58        South Africa  0.924688  Upper middle income  3.680000e+11   \n",
       "39            Malaysia  0.920697  Upper middle income  3.590000e+11   \n",
       "48            Portugal  0.916243          High income  2.410000e+11   \n",
       "46         Philippines  0.915664  Lower middle income  3.310000e+11   \n",
       "\n",
       "          gdp_pc  Output-CLI percent impact           pop  value_goods_serv  \\\n",
       "19  8.050632e+09                        NaN  1.062716e+07      2.019170e+10   \n",
       "61  4.102481e+08                        NaN  2.167000e+07      2.026379e+10   \n",
       "7   1.794928e+09                        NaN  2.866410e+05               NaN   \n",
       "29  2.009979e+09                   4.652658  1.352617e+09      5.370420e+11   \n",
       "65  7.273563e+09                        NaN  6.942852e+07      3.285820e+11   \n",
       "36  1.786062e+08                        NaN  1.927174e+06      2.108244e+10   \n",
       "58  6.374028e+09                  -0.537225  5.777962e+07      1.100680e+11   \n",
       "39  1.137323e+07                        NaN  3.152858e+07      2.464690e+11   \n",
       "48  2.340791e+09                   8.163515  1.028382e+07      1.056780e+11   \n",
       "46  3.102713e+09                        NaN  1.066519e+08      9.039707e+10   \n",
       "\n",
       "    TotalDeaths31/03  1stDay  centrality  prob_target      continent  \n",
       "19              42.0    81.0    0.038592     0.000779  North America  \n",
       "61               1.0    89.0    0.081582     0.002944           Asia  \n",
       "7                0.0    97.0    0.035372     0.081896  North America  \n",
       "29              32.0    73.0    0.130890     0.040967           Asia  \n",
       "65              10.0    61.0    0.107106     0.025415           Asia  \n",
       "36               0.0    95.0    0.102359     0.008210         Europe  \n",
       "58               3.0    87.0    0.114750     0.030234         Africa  \n",
       "39              37.0    78.0    0.105052     0.043233           Asia  \n",
       "48             140.0    78.0    0.121284     0.020749         Europe  \n",
       "46              88.0    33.0    0.105591     0.013855           Asia  "
      ]
     },
     "execution_count": 26,
     "metadata": {},
     "output_type": "execute_result"
    }
   ],
   "source": [
    "df.nlargest(10, 'pct_loss')"
   ]
  },
  {
   "cell_type": "code",
   "execution_count": 27,
   "metadata": {},
   "outputs": [
    {
     "data": {
      "text/plain": [
       "(0.95, 1)"
      ]
     },
     "execution_count": 27,
     "metadata": {},
     "output_type": "execute_result"
    },
    {
     "data": {
      "image/png": "[encoded data removed]",
      "text/plain": [
       "<Figure size 432x288 with 1 Axes>"
      ]
     },
     "metadata": {},
     "output_type": "display_data"
    }
   ],
   "source": [
    "ax = sns.barplot(x = 'pct_loss', y = 'pais', data=df.nlargest(15, 'pct_loss'))\n",
    "ax.set_xlim(0.95, 1)"
   ]
  },
  {
   "cell_type": "code",
   "execution_count": 28,
   "metadata": {},
   "outputs": [
    {
     "data": {
      "text/plain": [
       "(0.8, 1)"
      ]
     },
     "execution_count": 28,
     "metadata": {},
     "output_type": "execute_result"
    },
    {
     "data": {
      "image/png": "[encoded data removed]",
      "text/plain": [
       "<Figure size 720x720 with 1 Axes>"
      ]
     },
     "metadata": {},
     "output_type": "display_data"
    }
   ],
   "source": [
    "plt.figure(figsize = (10, 10))\n",
    "ax = sns.barplot(x = 'pct_loss', y = 'pais', data=df.nlargest(33, 'pct_loss'))\n",
    "ax.set_xlim(0.8, 1)"
   ]
  },
  {
   "cell_type": "code",
   "execution_count": 29,
   "metadata": {},
   "outputs": [
    {
     "data": {
      "image/png": "[encoded data removed]",
      "text/plain": [
       "<Figure size 432x288 with 1 Axes>"
      ]
     },
     "metadata": {},
     "output_type": "display_data"
    }
   ],
   "source": [
    "ax = sns.scatterplot(x=\"pct_loss\", y=\"gdp\", hue=\"continent\", size='pop', sizes=(15, 400), data=df)\n",
    "ax.set(yticks=[])\n",
    "plt.show()"
   ]
  },
  {
   "cell_type": "code",
   "execution_count": 30,
   "metadata": {},
   "outputs": [
    {
     "data": {
      "image/png": "[encoded data removed]",
      "text/plain": [
       "<Figure size 432x288 with 1 Axes>"
      ]
     },
     "metadata": {},
     "output_type": "display_data"
    }
   ],
   "source": [
    "ax = sns.scatterplot(x=\"pct_loss\", y=\"gdp_pc\", hue=\"continent\", size='pop', sizes=(15, 400), data=df)\n",
    "ax.set(yticks=[])\n",
    "plt.show()"
   ]
  },
  {
   "cell_type": "code",
   "execution_count": 31,
   "metadata": {},
   "outputs": [
    {
     "data": {
      "image/png": "[encoded data removed]",
      "text/plain": [
       "<Figure size 432x288 with 1 Axes>"
      ]
     },
     "metadata": {},
     "output_type": "display_data"
    }
   ],
   "source": [
    "ax = sns.scatterplot(x=\"pct_loss\", y=\"Output-CLI percent impact\", hue=\"continent\", size='pop', sizes=(15, 400), data=df)\n",
    "plt.show()"
   ]
  },
  {
   "cell_type": "code",
   "execution_count": 32,
   "metadata": {},
   "outputs": [
    {
     "data": {
      "image/png": "[encoded data removed]",
      "text/plain": [
       "<Figure size 432x288 with 1 Axes>"
      ]
     },
     "metadata": {},
     "output_type": "display_data"
    }
   ],
   "source": [
    "ax = sns.scatterplot(x=\"pct_loss\", y=\"TotalDeaths31/03\", hue=\"continent\", size='pop', sizes=(15, 400), data=df)\n",
    "plt.show()"
   ]
  },
  {
   "cell_type": "code",
   "execution_count": 33,
   "metadata": {},
   "outputs": [
    {
     "data": {
      "image/png": "[encoded data removed]",
      "text/plain": [
       "<Figure size 432x288 with 1 Axes>"
      ]
     },
     "metadata": {},
     "output_type": "display_data"
    },
    {
     "data": {
      "image/png": "[encoded data removed]",
      "text/plain": [
       "<Figure size 432x288 with 1 Axes>"
      ]
     },
     "metadata": {},
     "output_type": "display_data"
    },
    {
     "data": {
      "image/png": "[encoded data removed]",
      "text/plain": [
       "<Figure size 432x288 with 1 Axes>"
      ]
     },
     "metadata": {},
     "output_type": "display_data"
    },
    {
     "data": {
      "image/png": "[encoded data removed]",
      "text/plain": [
       "<Figure size 432x288 with 1 Axes>"
      ]
     },
     "metadata": {},
     "output_type": "display_data"
    },
    {
     "data": {
      "image/png": "[encoded data removed]",
      "text/plain": [
       "<Figure size 432x288 with 1 Axes>"
      ]
     },
     "metadata": {},
     "output_type": "display_data"
    },
    {
     "data": {
      "image/png": "[encoded data removed]",
      "text/plain": [
       "<Figure size 432x288 with 1 Axes>"
      ]
     },
     "metadata": {},
     "output_type": "display_data"
    }
   ],
   "source": [
    "for c in df.continent.unique():\n",
    "    aux_df = df[df.continent == c]\n",
    "    ax = sns.scatterplot(x=\"pct_loss\", y=\"gdp_pc\", size='pop', sizes=(15, 200), data=aux_df)\n",
    "    ax.set_title(c)\n",
    "    plt.show()"
   ]
  }
 ],
 "metadata": {
  "kernelspec": {
   "display_name": "Python 3",
   "language": "python",
   "name": "python3"
  },
  "language_info": {
   "codemirror_mode": {
    "name": "ipython",
    "version": 3
   },
   "file_extension": ".py",
   "mimetype": "text/x-python",
   "name": "python",
   "nbconvert_exporter": "python",
   "pygments_lexer": "ipython3",
   "version": "3.6.4"
  }
 },
 "nbformat": 4,
 "nbformat_minor": 2
}
